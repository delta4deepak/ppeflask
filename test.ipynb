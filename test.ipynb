{
 "cells": [
  {
   "cell_type": "code",
   "execution_count": 27,
   "metadata": {},
   "outputs": [],
   "source": [
    "boxes = {5: [181, 235, 189, 242], 4: [106, 256, 115, 267], 3: [76, 234, 130, 434], 2: [173, 242, 197, 279], 1: [170, 220, 203, 343]}\n",
    "centers = {}\n",
    "def get_center(a):\n",
    "    x = (a[2] + a[0]) // 2\n",
    "    y = (a[3] + a[1]) // 2\n",
    "    return [x,y]\n",
    "\n",
    "for box_id, box_coords in boxes.items():\n",
    "    centers[box_id] = get_center(box_coords)"
   ]
  },
  {
   "cell_type": "code",
   "execution_count": 28,
   "metadata": {},
   "outputs": [
    {
     "data": {
      "text/plain": [
       "{5: [185, 238], 4: [110, 261], 3: [103, 334], 2: [185, 260], 1: [186, 281]}"
      ]
     },
     "execution_count": 28,
     "metadata": {},
     "output_type": "execute_result"
    }
   ],
   "source": [
    "centers"
   ]
  },
  {
   "cell_type": "code",
   "execution_count": 29,
   "metadata": {},
   "outputs": [],
   "source": [
    "contained_ids = {}\n",
    "for id1,b in boxes.items():\n",
    "    contained_ids[id1] = []\n",
    "    for id2,c in centers.items():\n",
    "        if id1 == id2: continue\n",
    "        if c[0] >= b[0] and c[0] <= b[2] and c[1] >= b[1] and c[1]<=b[3]:\n",
    "            contained_ids[id1].append(id2)\n"
   ]
  },
  {
   "cell_type": "code",
   "execution_count": 30,
   "metadata": {},
   "outputs": [
    {
     "data": {
      "text/plain": [
       "{5: [], 4: [], 3: [4], 2: [], 1: [5, 2]}"
      ]
     },
     "execution_count": 30,
     "metadata": {},
     "output_type": "execute_result"
    }
   ],
   "source": [
    "contained_ids"
   ]
  }
 ],
 "metadata": {
  "kernelspec": {
   "display_name": "ppe_det",
   "language": "python",
   "name": "python3"
  },
  "language_info": {
   "codemirror_mode": {
    "name": "ipython",
    "version": 3
   },
   "file_extension": ".py",
   "mimetype": "text/x-python",
   "name": "python",
   "nbconvert_exporter": "python",
   "pygments_lexer": "ipython3",
   "version": "3.9.16"
  },
  "orig_nbformat": 4
 },
 "nbformat": 4,
 "nbformat_minor": 2
}
